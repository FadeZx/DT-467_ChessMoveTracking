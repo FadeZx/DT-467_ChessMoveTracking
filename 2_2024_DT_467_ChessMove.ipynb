{
  "nbformat": 4,
  "nbformat_minor": 0,
  "metadata": {
    "colab": {
      "provenance": [],
      "include_colab_link": true
    },
    "kernelspec": {
      "name": "python3",
      "display_name": "Python 3"
    },
    "language_info": {
      "name": "python"
    }
  },
  "cells": [
    {
      "cell_type": "markdown",
      "metadata": {
        "id": "view-in-github",
        "colab_type": "text"
      },
      "source": [
        "<a href=\"https://colab.research.google.com/github/FadeZx/DT-467_ChessMoveTracking/blob/main/2_2024_DT_467_ChessMove.ipynb\" target=\"_parent\"><img src=\"https://colab.research.google.com/assets/colab-badge.svg\" alt=\"Open In Colab\"/></a>"
      ]
    },
    {
      "cell_type": "markdown",
      "source": [
        "# Write your code here"
      ],
      "metadata": {
        "id": "v0_O0XzcRv2R"
      }
    },
    {
      "cell_type": "code",
      "source": [
        "# You can write additional function here\n",
        "\n"
      ],
      "metadata": {
        "id": "KIWsO7wnTTP_"
      },
      "execution_count": null,
      "outputs": []
    },
    {
      "cell_type": "code",
      "source": [
        "# This function will be used for marking, do not change function name, input parameters and return parameters of this function\n",
        "import cv2\n",
        "import matplotlib.pyplot as plt\n",
        "import numpy as np\n",
        "\n",
        "\n",
        "\n",
        "def chess_move(video_name):\n",
        "  # Input : video filename (.mp4)\n",
        "  # Output : Chess moves for each video\n",
        "  moves = \"\"\n",
        "  i = 0\n",
        "\n",
        "  # Create a VideoCapture object\n",
        "  cap = cv2.VideoCapture(video_name)\n",
        "\n",
        "  # Check if the video opened successfully\n",
        "  if not cap.isOpened():\n",
        "      print(\"Error opening video file\")\n",
        "\n",
        "  # Read and display frames until the video ends or 'q' is pressed\n",
        "  while cap.isOpened():\n",
        "    ret, frame = cap.read()\n",
        "    if ret and i == 0:\n",
        "        # Display only the first frame\n",
        "        plt.imshow(frame[:,:,::-1])\n",
        "        i += 1\n",
        "    else:\n",
        "        break\n",
        "\n",
        "    # Release the video capture object and close display windows\n",
        "    cap.release()\n",
        "\n",
        "    # Write your code here to extract the move from the image\n",
        "\n",
        "\n",
        "\n",
        "\n",
        "\n",
        "\n",
        "\n",
        "\n",
        "\n",
        "\n",
        "\n",
        "\n",
        "\n",
        "  return moves"
      ],
      "metadata": {
        "id": "d2U5sxRNRvoH"
      },
      "execution_count": null,
      "outputs": []
    },
    {
      "cell_type": "markdown",
      "source": [
        "# Marking"
      ],
      "metadata": {
        "id": "uEtQd5aeReF9"
      }
    },
    {
      "cell_type": "code",
      "source": [
        "!pip install editdistance\n",
        "!pip install opencv-python"
      ],
      "metadata": {
        "id": "jQa5gEn9R4fW"
      },
      "execution_count": null,
      "outputs": []
    },
    {
      "cell_type": "code",
      "source": [
        "!wget https://drive.google.com/uc?id=1a96Ei0hwfMvYUyUK-d0ZxvK6m6uSoAuR -O chess_solution_final_seen.csv"
      ],
      "metadata": {
        "id": "VbhC_KtQen_3",
        "outputId": "49d054be-1a3f-4d30-b8e4-bde05a5059b8",
        "colab": {
          "base_uri": "https://localhost:8080/"
        }
      },
      "execution_count": null,
      "outputs": [
        {
          "output_type": "stream",
          "name": "stdout",
          "text": [
            "--2025-03-18 02:56:20--  https://drive.google.com/uc?id=1a96Ei0hwfMvYUyUK-d0ZxvK6m6uSoAuR\n",
            "Resolving drive.google.com (drive.google.com)... 173.194.69.139, 173.194.69.100, 173.194.69.102, ...\n",
            "Connecting to drive.google.com (drive.google.com)|173.194.69.139|:443... connected.\n",
            "HTTP request sent, awaiting response... 303 See Other\n",
            "Location: https://drive.usercontent.google.com/download?id=1a96Ei0hwfMvYUyUK-d0ZxvK6m6uSoAuR [following]\n",
            "--2025-03-18 02:56:20--  https://drive.usercontent.google.com/download?id=1a96Ei0hwfMvYUyUK-d0ZxvK6m6uSoAuR\n",
            "Resolving drive.usercontent.google.com (drive.usercontent.google.com)... 142.251.18.132, 2a00:1450:4013:c18::84\n",
            "Connecting to drive.usercontent.google.com (drive.usercontent.google.com)|142.251.18.132|:443... connected.\n",
            "HTTP request sent, awaiting response... 200 OK\n",
            "Length: 963 [application/octet-stream]\n",
            "Saving to: ‘chess_solution_final_seen.csv’\n",
            "\n",
            "chess_solution_fina 100%[===================>]     963  --.-KB/s    in 0s      \n",
            "\n",
            "2025-03-18 02:56:23 (18.5 MB/s) - ‘chess_solution_final_seen.csv’ saved [963/963]\n",
            "\n"
          ]
        }
      ]
    },
    {
      "cell_type": "markdown",
      "source": [
        "## Download .mp4 file"
      ],
      "metadata": {
        "id": "yO60SKxAHZWT"
      }
    },
    {
      "cell_type": "code",
      "source": [
        "import subprocess\n",
        "\n",
        "def download_file(url, filename=None):\n",
        "    \"\"\"\n",
        "    Downloads a file from the specified URL using wget.\n",
        "\n",
        "    Parameters:\n",
        "        url (str): The URL of the file to download.\n",
        "        output_directory (str, optional): The directory to save the downloaded file.\n",
        "    \"\"\"\n",
        "    # Construct the wget command\n",
        "    cmd = ['wget', url]\n",
        "    if filename:\n",
        "        cmd.extend(['-O', filename])\n",
        "\n",
        "    try:\n",
        "        # Execute the wget command\n",
        "        print(cmd)\n",
        "        subprocess.run(cmd, check=True)\n",
        "        print(f\"Downloaded {url} successfully.\")\n",
        "    except subprocess.CalledProcessError as e:\n",
        "        print(f\"An error occurred: {e}\")\n"
      ],
      "metadata": {
        "id": "AXwl-51TTGyb"
      },
      "execution_count": null,
      "outputs": []
    },
    {
      "cell_type": "code",
      "source": [
        "# Load videos (or you can upload videos here manually)\n",
        "f = open('chess_solution_final_seen.csv','r')\n",
        "\n",
        "for line in f:\n",
        "  video_name, moves_sol, p,link = line.split(',')\n",
        "  idx = link.find('/d/')\n",
        "  idx2 = link.find('/',idx+3)\n",
        "  print(link[idx+3:idx2])\n",
        "  url = 'https://drive.google.com/uc?id=' + link[idx+3:idx2]\n",
        "  download_file(url, video_name)\n",
        "\n"
      ],
      "metadata": {
        "id": "o08gpjQHeZAu"
      },
      "execution_count": null,
      "outputs": []
    },
    {
      "cell_type": "markdown",
      "source": [
        "## Scoring your output"
      ],
      "metadata": {
        "id": "rwu_7awfHe1M"
      }
    },
    {
      "cell_type": "code",
      "execution_count": null,
      "metadata": {
        "id": "g8yVc4M6RST9"
      },
      "outputs": [],
      "source": [
        "# Read videos\n",
        "import editdistance\n",
        "\n",
        "f = open('chess_solution_final_seen.csv','r')\n",
        "score = 0\n",
        "n = 0\n",
        "for line in f:\n",
        "  video_name, moves_sol, p,link = line.split(',')\n",
        "  moves = chess_move(video_name)\n",
        "  s = 1 - editdistance.eval(moves,moves_sol)  / max(len(moves),len(moves_sol))\n",
        "  score += s\n",
        "  print(f\"your result: \",moves)\n",
        "  print(f\"solution   : \",moves_sol )\n",
        "  print(f\"The edit distance between your results and solution is {s}.\")\n",
        "  n += 1\n",
        "f.close()\n",
        "if n != 0:\n",
        "  print(\"-----------------------\")\n",
        "  print(\"Total score :\",score/n)\n",
        "  print(\"-----------------------\")\n",
        "\n"
      ]
    }
  ]
}